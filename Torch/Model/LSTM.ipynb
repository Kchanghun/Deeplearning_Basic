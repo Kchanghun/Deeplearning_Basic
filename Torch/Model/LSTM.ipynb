{
 "cells": [
  {
   "cell_type": "markdown",
   "metadata": {},
   "source": [
    "# LSTM"
   ]
  },
  {
   "cell_type": "markdown",
   "metadata": {},
   "source": [
    "## Import Library"
   ]
  },
  {
   "cell_type": "code",
   "execution_count": 16,
   "metadata": {},
   "outputs": [],
   "source": [
    "import torch\n",
    "import torch.nn as nn\n",
    "import torch.nn.functional as F\n",
    "from torch.autograd import Variable\n",
    "from torch.utils.data import DataLoader\n",
    "from torchvision import datasets\n",
    "from torchvision import transforms\n",
    "from torchsummary import summary\n",
    "\n",
    "from torchtext.vocab import Vectors, GloVe\n",
    "\n",
    "import nltk\n",
    "import random\n",
    "\n",
    "import numpy as np\n",
    "import matplotlib.pyplot as plt\n",
    "\n",
    "from utils import train_loop,test_loop"
   ]
  },
  {
   "cell_type": "markdown",
   "metadata": {},
   "source": [
    "## Check MPS Device for GPU"
   ]
  },
  {
   "cell_type": "code",
   "execution_count": 17,
   "metadata": {},
   "outputs": [
    {
     "name": "stdout",
     "output_type": "stream",
     "text": [
      "can use GPU\n"
     ]
    }
   ],
   "source": [
    "import torch\n",
    "if not torch.backends.mps.is_available():\n",
    "    if not torch.backends.mps.is_built():\n",
    "        print(\"MPS not available because the current PyTorch install was not \"\n",
    "              \"built with MPS enabled.\")\n",
    "    else:\n",
    "        print(\"MPS not available because the current MacOS version is not 12.3+ \"\n",
    "              \"and/or you do not have an MPS-enabled device on this machine.\")\n",
    "else:\n",
    "    print('can use GPU')\n",
    "    \n",
    "mps_device = torch.device(\"mps\")"
   ]
  },
  {
   "cell_type": "markdown",
   "metadata": {},
   "source": [
    "## Load Data"
   ]
  },
  {
   "cell_type": "code",
   "execution_count": 18,
   "metadata": {},
   "outputs": [],
   "source": [
    "def shuffle(label,tokens):\n",
    "    zipped = list(zip(label,tokens))\n",
    "    random.shuffle(zipped)\n",
    "    label, tokens = zip(*zipped)\n",
    "    return label, tokens"
   ]
  },
  {
   "cell_type": "code",
   "execution_count": 28,
   "metadata": {},
   "outputs": [],
   "source": [
    "from torchtext.datasets import IMDB\n",
    "from torchtext.data import get_tokenizer\n",
    "\n",
    "train_iter = IMDB(split='train')\n",
    "val_iter = IMDB(split='test')\n",
    "\n",
    "tokenizer = get_tokenizer(\"basic_english\")\n",
    "\n",
    "train_tokens = []\n",
    "val_tokens = []\n",
    "\n",
    "train_label = []\n",
    "val_label = []\n",
    "\n",
    "train_pos_lines = []\n",
    "train_neg_lines = []\n",
    "\n",
    "val_pos_lines = []\n",
    "val_neg_lines = []\n",
    "\n",
    "for label, line in train_iter:\n",
    "    if label == 'pos':\n",
    "        train_pos_lines.append(line)\n",
    "    else:\n",
    "        train_neg_lines.append(line)\n",
    "    train_label.append(label)\n",
    "    train_tokens.append(tokenizer(line))\n",
    "\n",
    "for label, line in val_iter:\n",
    "    if label == 'pos':\n",
    "        val_pos_lines.append(line)\n",
    "    else:\n",
    "        val_neg_lines.append(line)\n",
    "    val_label.append(label)\n",
    "    val_tokens.append(tokenizer(line))\n",
    "\n",
    "train_label, train_tokens = shuffle(train_label,train_tokens)\n",
    "val_label, val_tokens = shuffle(val_label,val_tokens)"
   ]
  },
  {
   "cell_type": "code",
   "execution_count": 29,
   "metadata": {},
   "outputs": [
    {
     "name": "stdout",
     "output_type": "stream",
     "text": [
      "the number of train sample : 25000\n",
      "train positive sample      : 12500\n",
      "train negative sample      : 12500\n",
      "the number of val sample   : 25000\n",
      "val positive sample        : 12500\n",
      "val negative sample        : 12500\n"
     ]
    }
   ],
   "source": [
    "print('the number of train sample : {}'.format(len(train_tokens)))\n",
    "print('train positive sample      : {}'.format(len(train_pos_lines)))\n",
    "print('train negative sample      : {}'.format(len(train_neg_lines)))\n",
    "print('the number of val sample   : {}'.format(len(val_tokens)))\n",
    "print('val positive sample        : {}'.format(len(val_pos_lines)))\n",
    "print('val negative sample        : {}'.format(len(val_neg_lines)))"
   ]
  },
  {
   "cell_type": "code",
   "execution_count": 30,
   "metadata": {},
   "outputs": [
    {
     "name": "stdout",
     "output_type": "stream",
     "text": [
      "size of vocab : 100682\n"
     ]
    }
   ],
   "source": [
    "from nltk import FreqDist\n",
    "\n",
    "vocab = FreqDist(np.hstack(train_tokens))\n",
    "print('size of vocab : {}'.format(len(vocab)))"
   ]
  },
  {
   "cell_type": "code",
   "execution_count": 31,
   "metadata": {},
   "outputs": [
    {
     "name": "stdout",
     "output_type": "stream",
     "text": [
      "size of vocab : 100000\n"
     ]
    }
   ],
   "source": [
    "vocab_size = 100000\n",
    "vocab = vocab.most_common(vocab_size)\n",
    "print('size of vocab : {}'.format(len(vocab)))"
   ]
  },
  {
   "cell_type": "code",
   "execution_count": 32,
   "metadata": {},
   "outputs": [],
   "source": [
    "word2index = {word[0] : index+2 for index,word in enumerate(vocab)}\n",
    "word2index['<pad>'] = 1\n",
    "word2index['<unk>'] = 0"
   ]
  },
  {
   "cell_type": "code",
   "execution_count": 33,
   "metadata": {},
   "outputs": [],
   "source": [
    "train_encoded = []\n",
    "for line in train_tokens:\n",
    "    temp=[]\n",
    "    for w in line:\n",
    "        try:\n",
    "            temp.append(word2index[w])\n",
    "        except KeyError:\n",
    "            temp.append(word2index['<unk>'])\n",
    "    \n",
    "    train_encoded.append(temp)\n",
    "\n",
    "train_int_label = []\n",
    "for label in train_label:\n",
    "    if label=='pos':\n",
    "        train_int_label.append([1.0,0.0])\n",
    "    else:\n",
    "        train_int_label.append([0.0,1.0])\n",
    "\n",
    "val_encoded = []\n",
    "for line in val_tokens:\n",
    "    temp = []\n",
    "    for w in line:\n",
    "        try:\n",
    "            temp.append(word2index[w])\n",
    "        except KeyError:\n",
    "            temp.append(word2index['<unk>'])\n",
    "    \n",
    "    val_encoded.append(temp)\n",
    "            \n",
    "val_int_label = []\n",
    "for label in val_label:\n",
    "    if label=='pos':\n",
    "        val_int_label.append([1.0,0.0])\n",
    "    else:\n",
    "        val_int_label.append([0.0,1.0])\n"
   ]
  },
  {
   "cell_type": "code",
   "execution_count": 34,
   "metadata": {},
   "outputs": [
    {
     "name": "stdout",
     "output_type": "stream",
     "text": [
      "max  length : 2752\n",
      "min  length : 11\n",
      "mean length : 270.68748\n"
     ]
    },
    {
     "data": {
      "image/png": "[encoded data removed]",
      "text/plain": [
       "<Figure size 432x288 with 1 Axes>"
      ]
     },
     "metadata": {
      "needs_background": "light"
     },
     "output_type": "display_data"
    }
   ],
   "source": [
    "line_length = [len(s) for s in train_tokens]\n",
    "max_len = max(line_length)\n",
    "print('max  length : {}'.format(max(line_length)))\n",
    "print('min  length : {}'.format(min(line_length)))\n",
    "print('mean length : {}'.format(np.mean(line_length)))\n",
    "plt.hist(line_length,bins=50)\n",
    "plt.xlabel('length of sample')\n",
    "plt.ylabel('number of sample')\n",
    "plt.show()"
   ]
  },
  {
   "cell_type": "code",
   "execution_count": 26,
   "metadata": {},
   "outputs": [
    {
     "name": "stdout",
     "output_type": "stream",
     "text": [
      "max  length : 2623\n",
      "min  length : 8\n",
      "mean length : 264.63664\n"
     ]
    },
    {
     "data": {
      "image/png": "[encoded data removed]",
      "text/plain": [
       "<Figure size 432x288 with 1 Axes>"
      ]
     },
     "metadata": {
      "needs_background": "light"
     },
     "output_type": "display_data"
    }
   ],
   "source": [
    "line_length = [len(s) for s in val_tokens]\n",
    "max_len = max(line_length)\n",
    "print('max  length : {}'.format(max(line_length)))\n",
    "print('min  length : {}'.format(min(line_length)))\n",
    "print('mean length : {}'.format(np.mean(line_length)))\n",
    "plt.hist(line_length,bins=50)\n",
    "plt.xlabel('length of sample')\n",
    "plt.ylabel('number of sample')\n",
    "plt.show()"
   ]
  },
  {
   "cell_type": "code",
   "execution_count": 35,
   "metadata": {},
   "outputs": [],
   "source": [
    "for line in train_encoded:\n",
    "    if len(line)< max_len:\n",
    "        line += [word2index['<pad>']] * (max_len - len(line))\n",
    "\n",
    "for line in val_encoded:\n",
    "    if len(line)< max_len:\n",
    "        line += [word2index['<pad>']] * (max_len - len(line))"
   ]
  },
  {
   "cell_type": "code",
   "execution_count": 36,
   "metadata": {},
   "outputs": [
    {
     "name": "stdout",
     "output_type": "stream",
     "text": [
      "max  length : 2752\n",
      "min  length : 2752\n",
      "mean length : 2752.0\n"
     ]
    },
    {
     "data": {
      "image/png": "[encoded data removed]",
      "text/plain": [
       "<Figure size 432x288 with 1 Axes>"
      ]
     },
     "metadata": {
      "needs_background": "light"
     },
     "output_type": "display_data"
    }
   ],
   "source": [
    "encoded_len = [len(l) for l in train_encoded]\n",
    "print('max  length : {}'.format(max(encoded_len)))\n",
    "print('min  length : {}'.format(min(encoded_len)))\n",
    "print('mean length : {}'.format(np.mean([encoded_len])))\n",
    "plt.hist(encoded_len,bins=50)\n",
    "plt.xlabel('length of sample')\n",
    "plt.ylabel('number of sample')\n",
    "plt.show()"
   ]
  },
  {
   "cell_type": "code",
   "execution_count": 37,
   "metadata": {},
   "outputs": [
    {
     "name": "stdout",
     "output_type": "stream",
     "text": [
      "max  length : 2752\n",
      "min  length : 2752\n",
      "mean length : 2752.0\n"
     ]
    },
    {
     "data": {
      "image/png": "[encoded data removed]",
      "text/plain": [
       "<Figure size 432x288 with 1 Axes>"
      ]
     },
     "metadata": {
      "needs_background": "light"
     },
     "output_type": "display_data"
    }
   ],
   "source": [
    "encoded_len = [len(l) for l in val_encoded]\n",
    "print('max  length : {}'.format(max(encoded_len)))\n",
    "print('min  length : {}'.format(min(encoded_len)))\n",
    "print('mean length : {}'.format(np.mean([encoded_len])))\n",
    "plt.hist(encoded_len,bins=50)\n",
    "plt.xlabel('length of sample')\n",
    "plt.ylabel('number of sample')\n",
    "plt.show()"
   ]
  },
  {
   "cell_type": "markdown",
   "metadata": {},
   "source": [
    "## Simple LSTM"
   ]
  },
  {
   "cell_type": "code",
   "execution_count": 38,
   "metadata": {},
   "outputs": [],
   "source": [
    "class LSTMClassifier(nn.Module):\n",
    "    def __init__(self, batch_size, output_size, hidden_size, \\\n",
    "        vocab_size, embedding_length=2752):\n",
    "        super(LSTMClassifier,self).__init__()\n",
    "        self.batch_size = batch_size\n",
    "        self.output_size = output_size\n",
    "        self.hidden_size = hidden_size\n",
    "        self.vocab_size = vocab_size\n",
    "        self.embedding_length = embedding_length\n",
    "        \n",
    "        self.word_embeddings = nn.Embedding(vocab_size, embedding_length)\n",
    "        self.lstm = nn.LSTM(input_size=embedding_length,hidden_size=hidden_size)\n",
    "        self.label = nn.Linear(hidden_size, output_size)\n",
    "        self.softmax = nn.Softmax()\n",
    "    \n",
    "    def forward(self, input_sentence):\n",
    "        input = self.word_embeddings(input_sentence)\n",
    "        input = input.permute(1,0,2)\n",
    "        if self.batch_size:\n",
    "            h_0 = Variable(torch.zeros(1, self.batch_size, self.hidden_size),requires_grad=True)\n",
    "            c_0 = Variable(torch.zeros(1, self.batch_size, self.hidden_size),requires_grad=True)\n",
    "        else:\n",
    "            h_0 = Variable(torch.zeros(1, 16, self.hidden_size),requires_grad=True)\n",
    "            c_0 = Variable(torch.zeros(1, 16, self.hidden_size),requires_grad=True)\n",
    "        output, (final_hidden_state, final_cell_state) = self.lstm(input, (h_0, c_0))\n",
    "        final_output = self.label(final_hidden_state[-1])        \n",
    "        final_output = self.softmax(final_output)\n",
    "        \n",
    "        return final_output"
   ]
  },
  {
   "cell_type": "markdown",
   "metadata": {},
   "source": [
    "# Define how to Train & Validate"
   ]
  },
  {
   "cell_type": "code",
   "execution_count": 39,
   "metadata": {},
   "outputs": [],
   "source": [
    "model = LSTMClassifier(batch_size=32,output_size=2,hidden_size=128,vocab_size=100005)\n",
    "# model.to(mps_device)"
   ]
  },
  {
   "cell_type": "code",
   "execution_count": 40,
   "metadata": {},
   "outputs": [],
   "source": [
    "epochs = 20\n",
    "loss_fn = nn.CrossEntropyLoss()\n",
    "optimizer = torch.optim.SGD(model.parameters(),lr=0.02,momentum=0.9,weight_decay=0.0005)"
   ]
  },
  {
   "cell_type": "code",
   "execution_count": 41,
   "metadata": {},
   "outputs": [],
   "source": [
    "\n",
    "def train_model(model, train_tokens, train_int_label, epoch):\n",
    "    total_epoch_loss = 0\n",
    "    total_epoch_acc = 0\n",
    "    # model.train()\n",
    "    label, train_data = shuffle(train_int_label,train_tokens)\n",
    "    \n",
    "    total_batch = len(train_data)//model.batch_size\n",
    "    best_acc = 0\n",
    "    for iter in range(total_batch):\n",
    "        # read_token =  torch.tensor(train_data[iter*model.batch_size:(iter+1)*model.batch_size]).to(device=mps_device)\n",
    "        # read_label =  torch.tensor(label[iter*model.batch_size:(iter+1)*model.batch_size]).to(device=mps_device)\n",
    "        read_token =  torch.tensor(train_data[iter*model.batch_size:(iter+1)*model.batch_size])\n",
    "        read_label =  torch.tensor(label[iter*model.batch_size:(iter+1)*model.batch_size])\n",
    "        \n",
    "        pred = torch.tensor(model(read_token)).clone().detach().requires_grad_(True)\n",
    "        loss = loss_fn(pred, read_label)\n",
    "        \n",
    "        num_corrects = (torch.tensor(pred).argmax(1) == torch.tensor(read_label).argmax(1))\\\n",
    "            .type(torch.float).sum().item()\n",
    "        acc = 100.0 * num_corrects / model.batch_size\n",
    "        \n",
    "        if acc > best_acc:\n",
    "            optimizer.zero_grad()\n",
    "            loss.backward()\n",
    "            optimizer.step()\n",
    "            best_acc = acc\n",
    "            print('Weights are updated')\n",
    "        \n",
    "        if iter % (total_batch//10) ==0:\n",
    "            print(f'Iter: {iter+1}/{total_batch}\\nTraining Loss: {loss:.4f},\\\n",
    "                \\nTraining Accuracy: {acc:.2f}%')\n",
    "            \n",
    "        total_epoch_loss += loss\n",
    "        total_epoch_acc += acc\n",
    "    \n",
    "    return total_epoch_loss/total_batch, total_epoch_acc/total_batch"
   ]
  },
  {
   "cell_type": "code",
   "execution_count": 42,
   "metadata": {},
   "outputs": [],
   "source": [
    "def eval_model(model, val_tokens, val_int_label):\n",
    "    total_epoch_loss = 0\n",
    "    total_epoch_acc = 0\n",
    "    # model.eval()\n",
    "    label, val_data = shuffle(val_int_label,val_tokens)\n",
    "    with torch.no_grad():\n",
    "        for idx in range(100):\n",
    "            # read_token = torch.tensor(val_data[idx*model.batch_size:(idx+1)*model.batch_size]).to(device=mps_device)\n",
    "            # read_label = torch.tensor(label[idx*model.batch_size:(idx+1)*model.batch_size]).to(device=mps_device)\n",
    "\n",
    "            read_token = torch.tensor(val_data[idx*model.batch_size:(idx+1)*model.batch_size])\n",
    "            read_label = torch.tensor(label[idx*model.batch_size:(idx+1)*model.batch_size])\n",
    "\n",
    "            pred = torch.tensor(model(read_token)).clone().detach().requires_grad_(True)\n",
    "            loss = loss_fn(pred, read_label)\n",
    "            \n",
    "            num_corrects = (pred.argmax(1) == torch.tensor(read_label).argmax(1))\\\n",
    "                .type(torch.float).sum().item()\n",
    "            acc = 100.0 * num_corrects / model.batch_size\n",
    "            \n",
    "            total_epoch_loss += loss\n",
    "            total_epoch_acc += acc\n",
    "    \n",
    "    return total_epoch_loss/100, total_epoch_acc/100\n",
    "        "
   ]
  },
  {
   "cell_type": "markdown",
   "metadata": {},
   "source": [
    "# Train"
   ]
  },
  {
   "cell_type": "code",
   "execution_count": 43,
   "metadata": {},
   "outputs": [],
   "source": [
    "train={}\n",
    "train['acc'] = []\n",
    "train['loss'] =[]\n",
    "\n",
    "val={}\n",
    "val['acc'] = []\n",
    "val['loss'] =[]"
   ]
  },
  {
   "cell_type": "code",
   "execution_count": 44,
   "metadata": {},
   "outputs": [
    {
     "name": "stderr",
     "output_type": "stream",
     "text": [
      "/var/folders/0l/3n3y7jns43l8x_lzc7n9yhqh0000gn/T/ipykernel_72021/1778032943.py:27: UserWarning: Implicit dimension choice for softmax has been deprecated. Change the call to include dim=X as an argument.\n",
      "  final_output = self.softmax(final_output)\n",
      "/var/folders/0l/3n3y7jns43l8x_lzc7n9yhqh0000gn/T/ipykernel_72021/2822885739.py:15: UserWarning: To copy construct from a tensor, it is recommended to use sourceTensor.clone().detach() or sourceTensor.clone().detach().requires_grad_(True), rather than torch.tensor(sourceTensor).\n",
      "  pred = torch.tensor(model(read_token)).clone().detach().requires_grad_(True)\n",
      "/var/folders/0l/3n3y7jns43l8x_lzc7n9yhqh0000gn/T/ipykernel_72021/2822885739.py:18: UserWarning: To copy construct from a tensor, it is recommended to use sourceTensor.clone().detach() or sourceTensor.clone().detach().requires_grad_(True), rather than torch.tensor(sourceTensor).\n",
      "  num_corrects = (torch.tensor(pred).argmax(1) == torch.tensor(read_label).argmax(1))\\\n"
     ]
    },
    {
     "name": "stdout",
     "output_type": "stream",
     "text": [
      "Iter: 1/781\n",
      "Training Loss: 0.6995,                \n",
      "Training Accuracy: 43.75%\n",
      "Iter: 79/781\n",
      "Training Loss: 0.6887,                \n",
      "Training Accuracy: 56.25%\n",
      "Iter: 157/781\n",
      "Training Loss: 0.6941,                \n",
      "Training Accuracy: 50.00%\n",
      "Iter: 235/781\n",
      "Training Loss: 0.7049,                \n",
      "Training Accuracy: 37.50%\n",
      "Iter: 313/781\n",
      "Training Loss: 0.6860,                \n",
      "Training Accuracy: 59.38%\n",
      "Iter: 391/781\n",
      "Training Loss: 0.6887,                \n",
      "Training Accuracy: 56.25%\n",
      "Iter: 469/781\n",
      "Training Loss: 0.7022,                \n",
      "Training Accuracy: 40.62%\n",
      "Iter: 547/781\n",
      "Training Loss: 0.6914,                \n",
      "Training Accuracy: 53.12%\n",
      "Iter: 625/781\n",
      "Training Loss: 0.6968,                \n",
      "Training Accuracy: 46.88%\n",
      "Iter: 703/781\n",
      "Training Loss: 0.6914,                \n",
      "Training Accuracy: 53.12%\n",
      "Iter: 781/781\n",
      "Training Loss: 0.6806,                \n",
      "Training Accuracy: 65.62%\n"
     ]
    },
    {
     "name": "stderr",
     "output_type": "stream",
     "text": [
      "/var/folders/0l/3n3y7jns43l8x_lzc7n9yhqh0000gn/T/ipykernel_72021/1726177042.py:14: UserWarning: To copy construct from a tensor, it is recommended to use sourceTensor.clone().detach() or sourceTensor.clone().detach().requires_grad_(True), rather than torch.tensor(sourceTensor).\n",
      "  pred = torch.tensor(model(read_token)).clone().detach().requires_grad_(True)\n",
      "/var/folders/0l/3n3y7jns43l8x_lzc7n9yhqh0000gn/T/ipykernel_72021/1726177042.py:17: UserWarning: To copy construct from a tensor, it is recommended to use sourceTensor.clone().detach() or sourceTensor.clone().detach().requires_grad_(True), rather than torch.tensor(sourceTensor).\n",
      "  num_corrects = (pred.argmax(1) == torch.tensor(read_label).argmax(1))\\\n"
     ]
    },
    {
     "name": "stdout",
     "output_type": "stream",
     "text": [
      "Epoch: 01\n",
      "Train Loss: 0.694, Train Acc: 50.01%\n",
      "        Val Loss: 0.693, Val Acc: 51.38%\n",
      "Iter: 1/781\n",
      "Training Loss: 0.6941,                \n",
      "Training Accuracy: 50.00%\n",
      "Iter: 79/781\n",
      "Training Loss: 0.6968,                \n",
      "Training Accuracy: 46.88%\n",
      "Iter: 157/781\n",
      "Training Loss: 0.6941,                \n",
      "Training Accuracy: 50.00%\n",
      "Iter: 235/781\n",
      "Training Loss: 0.6995,                \n",
      "Training Accuracy: 43.75%\n",
      "Iter: 313/781\n",
      "Training Loss: 0.6860,                \n",
      "Training Accuracy: 59.38%\n",
      "Iter: 391/781\n",
      "Training Loss: 0.6968,                \n",
      "Training Accuracy: 46.88%\n",
      "Iter: 469/781\n",
      "Training Loss: 0.7022,                \n",
      "Training Accuracy: 40.62%\n",
      "Iter: 547/781\n",
      "Training Loss: 0.7102,                \n",
      "Training Accuracy: 31.25%\n",
      "Iter: 625/781\n",
      "Training Loss: 0.6887,                \n",
      "Training Accuracy: 56.25%\n",
      "Iter: 703/781\n",
      "Training Loss: 0.6941,                \n",
      "Training Accuracy: 50.00%\n",
      "Iter: 781/781\n",
      "Training Loss: 0.7076,                \n",
      "Training Accuracy: 34.38%\n",
      "Epoch: 02\n",
      "Train Loss: 0.694, Train Acc: 50.00%\n",
      "        Val Loss: 0.695, Val Acc: 48.94%\n",
      "Iter: 1/781\n",
      "Training Loss: 0.6914,                \n",
      "Training Accuracy: 53.12%\n",
      "Iter: 79/781\n",
      "Training Loss: 0.6914,                \n",
      "Training Accuracy: 53.12%\n",
      "Iter: 157/781\n",
      "Training Loss: 0.6833,                \n",
      "Training Accuracy: 62.50%\n",
      "Iter: 235/781\n",
      "Training Loss: 0.6914,                \n",
      "Training Accuracy: 53.12%\n",
      "Iter: 313/781\n",
      "Training Loss: 0.6995,                \n",
      "Training Accuracy: 43.75%\n",
      "Iter: 391/781\n",
      "Training Loss: 0.6968,                \n",
      "Training Accuracy: 46.88%\n",
      "Iter: 469/781\n",
      "Training Loss: 0.6887,                \n",
      "Training Accuracy: 56.25%\n",
      "Iter: 547/781\n",
      "Training Loss: 0.7022,                \n",
      "Training Accuracy: 40.62%\n",
      "Iter: 625/781\n",
      "Training Loss: 0.6914,                \n",
      "Training Accuracy: 53.12%\n",
      "Iter: 703/781\n",
      "Training Loss: 0.7022,                \n",
      "Training Accuracy: 40.62%\n",
      "Iter: 781/781\n",
      "Training Loss: 0.6941,                \n",
      "Training Accuracy: 50.00%\n",
      "Epoch: 03\n",
      "Train Loss: 0.694, Train Acc: 50.00%\n",
      "        Val Loss: 0.693, Val Acc: 50.84%\n",
      "Iter: 1/781\n",
      "Training Loss: 0.6833,                \n",
      "Training Accuracy: 62.50%\n",
      "Iter: 79/781\n",
      "Training Loss: 0.7022,                \n",
      "Training Accuracy: 40.62%\n",
      "Iter: 157/781\n",
      "Training Loss: 0.6995,                \n",
      "Training Accuracy: 43.75%\n",
      "Iter: 235/781\n",
      "Training Loss: 0.6860,                \n",
      "Training Accuracy: 59.38%\n",
      "Iter: 313/781\n",
      "Training Loss: 0.6860,                \n",
      "Training Accuracy: 59.38%\n",
      "Iter: 391/781\n",
      "Training Loss: 0.6914,                \n",
      "Training Accuracy: 53.12%\n",
      "Iter: 469/781\n",
      "Training Loss: 0.6968,                \n",
      "Training Accuracy: 46.88%\n",
      "Iter: 547/781\n",
      "Training Loss: 0.6887,                \n",
      "Training Accuracy: 56.25%\n",
      "Iter: 625/781\n",
      "Training Loss: 0.6941,                \n",
      "Training Accuracy: 50.00%\n",
      "Iter: 703/781\n",
      "Training Loss: 0.6941,                \n",
      "Training Accuracy: 50.00%\n",
      "Iter: 781/781\n",
      "Training Loss: 0.6887,                \n",
      "Training Accuracy: 56.25%\n",
      "Epoch: 04\n",
      "Train Loss: 0.694, Train Acc: 50.01%\n",
      "        Val Loss: 0.695, Val Acc: 49.09%\n",
      "Iter: 1/781\n",
      "Training Loss: 0.6914,                \n",
      "Training Accuracy: 53.12%\n",
      "Iter: 79/781\n",
      "Training Loss: 0.6887,                \n",
      "Training Accuracy: 56.25%\n",
      "Iter: 157/781\n",
      "Training Loss: 0.6995,                \n",
      "Training Accuracy: 43.75%\n",
      "Iter: 235/781\n",
      "Training Loss: 0.6860,                \n",
      "Training Accuracy: 59.38%\n",
      "Iter: 313/781\n",
      "Training Loss: 0.6941,                \n",
      "Training Accuracy: 50.00%\n",
      "Iter: 391/781\n",
      "Training Loss: 0.7049,                \n",
      "Training Accuracy: 37.50%\n",
      "Iter: 469/781\n",
      "Training Loss: 0.7049,                \n",
      "Training Accuracy: 37.50%\n",
      "Iter: 547/781\n",
      "Training Loss: 0.6860,                \n",
      "Training Accuracy: 59.38%\n",
      "Iter: 625/781\n",
      "Training Loss: 0.6887,                \n",
      "Training Accuracy: 56.25%\n",
      "Iter: 703/781\n",
      "Training Loss: 0.6833,                \n",
      "Training Accuracy: 62.50%\n",
      "Iter: 781/781\n",
      "Training Loss: 0.6941,                \n",
      "Training Accuracy: 50.00%\n",
      "Epoch: 05\n",
      "Train Loss: 0.694, Train Acc: 50.00%\n",
      "        Val Loss: 0.694, Val Acc: 49.97%\n",
      "Iter: 1/781\n",
      "Training Loss: 0.6968,                \n",
      "Training Accuracy: 46.88%\n",
      "Iter: 79/781\n",
      "Training Loss: 0.6968,                \n",
      "Training Accuracy: 46.88%\n",
      "Iter: 157/781\n",
      "Training Loss: 0.6968,                \n",
      "Training Accuracy: 46.88%\n",
      "Iter: 235/781\n",
      "Training Loss: 0.7102,                \n",
      "Training Accuracy: 31.25%\n",
      "Iter: 313/781\n",
      "Training Loss: 0.6887,                \n",
      "Training Accuracy: 56.25%\n",
      "Iter: 391/781\n",
      "Training Loss: 0.6914,                \n",
      "Training Accuracy: 53.12%\n",
      "Iter: 469/781\n",
      "Training Loss: 0.6914,                \n",
      "Training Accuracy: 53.12%\n",
      "Iter: 547/781\n",
      "Training Loss: 0.6914,                \n",
      "Training Accuracy: 53.12%\n",
      "Iter: 625/781\n",
      "Training Loss: 0.6941,                \n",
      "Training Accuracy: 50.00%\n",
      "Iter: 703/781\n",
      "Training Loss: 0.6806,                \n",
      "Training Accuracy: 65.62%\n",
      "Iter: 781/781\n",
      "Training Loss: 0.6914,                \n",
      "Training Accuracy: 53.12%\n",
      "Epoch: 06\n",
      "Train Loss: 0.694, Train Acc: 50.00%\n",
      "        Val Loss: 0.693, Val Acc: 51.03%\n",
      "Iter: 1/781\n",
      "Training Loss: 0.7022,                \n",
      "Training Accuracy: 40.62%\n",
      "Iter: 79/781\n",
      "Training Loss: 0.6995,                \n",
      "Training Accuracy: 43.75%\n"
     ]
    },
    {
     "ename": "",
     "evalue": "",
     "output_type": "error",
     "traceback": [
      "현재 셀 또는 이전 셀에서 코드를 실행하는 동안 Kernel이 충돌했습니다. 셀의 코드를 검토하여 오류의 가능한 원인을 식별하세요. 자세한 내용을 보려면 <a href='https://aka.ms/vscodeJupyterKernelCrash'> 여기 </a> 를 클릭하세요. 자세한 내용은 Jupyter <a href='command:jupyter.viewOutput'>로그</a>를 참조하세요."
     ]
    },
    {
     "ename": "",
     "evalue": "",
     "output_type": "error",
     "traceback": [
      "\u001b[1;31mCanceled future for execute_request message before replies were done"
     ]
    }
   ],
   "source": [
    "for epoch in range(epochs):\n",
    "    print(f'Epoch: {epoch+1:02}')\n",
    "    train_loss, train_acc = train_model(model,train_encoded,train_int_label,epoch)\n",
    "    val_loss, val_acc = eval_model(model,val_encoded,val_int_label)\n",
    "    \n",
    "    train['loss'].append(train_loss)\n",
    "    train['acc'].append(train_acc)\n",
    "    val['loss'].append(val_loss)\n",
    "    val['acc'].append(val_acc)\n",
    "    \n",
    "    print(f'Epoch: {epoch+1:02}\\nTrain Loss: {train_loss:.3f}, Train Acc: {train_acc:.2f}%\\\n",
    "        \\nVal Loss: {val_loss:.3f}, Val Acc: {val_acc:.2f}%')"
   ]
  },
  {
   "cell_type": "code",
   "execution_count": null,
   "metadata": {},
   "outputs": [
    {
     "data": {
      "image/png": "[encoded data removed]",
      "text/plain": [
       "<Figure size 432x288 with 1 Axes>"
      ]
     },
     "metadata": {
      "needs_background": "light"
     },
     "output_type": "display_data"
    }
   ],
   "source": [
    "plt.plot(train['acc'],'-b',label='train accuracy')\n",
    "plt.plot(val['acc'],'--b',label='val acc')\n",
    "plt.plot(train['acc'],'-r',label='trian loss')\n",
    "plt.plot(val['loss'],'--r',label='val loss')\n",
    "plt.legend()\n",
    "plt.show()"
   ]
  }
 ],
 "metadata": {
  "kernelspec": {
   "display_name": "Python 3.10.0 64-bit",
   "language": "python",
   "name": "python3"
  },
  "language_info": {
   "codemirror_mode": {
    "name": "ipython",
    "version": 3
   },
   "file_extension": ".py",
   "mimetype": "text/x-python",
   "name": "python",
   "nbconvert_exporter": "python",
   "pygments_lexer": "ipython3",
   "version": "3.10.0"
  },
  "orig_nbformat": 4,
  "vscode": {
   "interpreter": {
    "hash": "aee8b7b246df8f9039afb4144a1f6fd8d2ca17a180786b69acc140d282b71a49"
   }
  }
 },
 "nbformat": 4,
 "nbformat_minor": 2
}
