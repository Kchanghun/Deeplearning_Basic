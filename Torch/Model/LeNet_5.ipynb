{
 "cells": [
  {
   "cell_type": "markdown",
   "metadata": {},
   "source": [
    "# LeNet-5"
   ]
  },
  {
   "cell_type": "markdown",
   "metadata": {},
   "source": [
    "## Import Library"
   ]
  },
  {
   "cell_type": "code",
   "execution_count": 3,
   "metadata": {},
   "outputs": [],
   "source": [
    "import torch\n",
    "import torch.nn as nn\n",
    "from torch.utils.data import DataLoader\n",
    "from torchvision import datasets\n",
    "from torchvision.transforms import ToTensor\n",
    "from torchsummary import summary\n",
    "\n",
    "import numpy as np\n",
    "import matplotlib.pyplot as plt\n",
    "\n",
    "from utils import train_loop,test_loop"
   ]
  },
  {
   "cell_type": "markdown",
   "metadata": {},
   "source": [
    "## Check MPS Device for GPU"
   ]
  },
  {
   "cell_type": "code",
   "execution_count": 4,
   "metadata": {},
   "outputs": [
    {
     "name": "stdout",
     "output_type": "stream",
     "text": [
      "can use GPU\n"
     ]
    }
   ],
   "source": [
    "import torch\n",
    "if not torch.backends.mps.is_available():\n",
    "    if not torch.backends.mps.is_built():\n",
    "        print(\"MPS not available because the current PyTorch install was not \"\n",
    "              \"built with MPS enabled.\")\n",
    "    else:\n",
    "        print(\"MPS not available because the current MacOS version is not 12.3+ \"\n",
    "              \"and/or you do not have an MPS-enabled device on this machine.\")\n",
    "else:\n",
    "    print('can use GPU')\n",
    "    \n",
    "mps_device = torch.device(\"mps\")"
   ]
  },
  {
   "cell_type": "markdown",
   "metadata": {},
   "source": [
    "## Load Data"
   ]
  },
  {
   "cell_type": "code",
   "execution_count": 5,
   "metadata": {},
   "outputs": [],
   "source": [
    "training_data = datasets.FashionMNIST(\n",
    "    root = '../data/',\n",
    "    train=True,\n",
    "    download=True,\n",
    "    transform=ToTensor()\n",
    ")\n",
    "\n",
    "test_data = datasets.FashionMNIST(\n",
    "    root='../data/',\n",
    "    train=False,\n",
    "    download=True,\n",
    "    transform=ToTensor()\n",
    ")\n",
    "\n",
    "train_dataloader = DataLoader(training_data, batch_size=32)\n",
    "test_dataloader = DataLoader(test_data, batch_size=32)"
   ]
  },
  {
   "cell_type": "markdown",
   "metadata": {},
   "source": [
    "## Define Model"
   ]
  },
  {
   "cell_type": "code",
   "execution_count": 6,
   "metadata": {},
   "outputs": [],
   "source": [
    "class LeNet_5(nn.Module):\n",
    "    def __init__(self, num_classes=10):\n",
    "        super(LeNet_5, self).__init__()\n",
    "        self.features = nn.Sequential(\n",
    "            nn.Conv2d(1,6,kernel_size=5,stride=1,padding=2),\n",
    "            nn.Tanh(),\n",
    "            nn.AvgPool2d(kernel_size=2,stride=2,padding=0),\n",
    "            nn.Conv2d(6,16,kernel_size=5,stride=1,padding=0),\n",
    "            nn.Tanh(),\n",
    "            nn.AvgPool2d(kernel_size=2,stride=2,padding=0),\n",
    "            nn.Conv2d(16,120,kernel_size=5,stride=1,padding=0),\n",
    "            nn.Tanh(),\n",
    "        )\n",
    "        self.classifier = nn.Sequential(\n",
    "            nn.Linear(120,84),\n",
    "            nn.Tanh(),\n",
    "            nn.Linear(84,num_classes),\n",
    "        )\n",
    "        \n",
    "    def forward(self, x):\n",
    "        x = self.features(x)\n",
    "        x = torch.flatten(x,1)\n",
    "        x = self.classifier(x)\n",
    "        return x"
   ]
  },
  {
   "cell_type": "code",
   "execution_count": 7,
   "metadata": {},
   "outputs": [
    {
     "name": "stdout",
     "output_type": "stream",
     "text": [
      "----------------------------------------------------------------\n",
      "        Layer (type)               Output Shape         Param #\n",
      "================================================================\n",
      "            Conv2d-1            [32, 6, 28, 28]             156\n",
      "              Tanh-2            [32, 6, 28, 28]               0\n",
      "         AvgPool2d-3            [32, 6, 14, 14]               0\n",
      "            Conv2d-4           [32, 16, 10, 10]           2,416\n",
      "              Tanh-5           [32, 16, 10, 10]               0\n",
      "         AvgPool2d-6             [32, 16, 5, 5]               0\n",
      "            Conv2d-7            [32, 120, 1, 1]          48,120\n",
      "              Tanh-8            [32, 120, 1, 1]               0\n",
      "            Linear-9                   [32, 84]          10,164\n",
      "             Tanh-10                   [32, 84]               0\n",
      "           Linear-11                   [32, 10]             850\n",
      "================================================================\n",
      "Total params: 61,706\n",
      "Trainable params: 61,706\n",
      "Non-trainable params: 0\n",
      "----------------------------------------------------------------\n",
      "Input size (MB): 0.10\n",
      "Forward/backward pass size (MB): 3.56\n",
      "Params size (MB): 0.24\n",
      "Estimated Total Size (MB): 3.90\n",
      "----------------------------------------------------------------\n"
     ]
    },
    {
     "data": {
      "text/plain": [
       "LeNet_5(\n",
       "  (features): Sequential(\n",
       "    (0): Conv2d(1, 6, kernel_size=(5, 5), stride=(1, 1), padding=(2, 2))\n",
       "    (1): Tanh()\n",
       "    (2): AvgPool2d(kernel_size=2, stride=2, padding=0)\n",
       "    (3): Conv2d(6, 16, kernel_size=(5, 5), stride=(1, 1))\n",
       "    (4): Tanh()\n",
       "    (5): AvgPool2d(kernel_size=2, stride=2, padding=0)\n",
       "    (6): Conv2d(16, 120, kernel_size=(5, 5), stride=(1, 1))\n",
       "    (7): Tanh()\n",
       "  )\n",
       "  (classifier): Sequential(\n",
       "    (0): Linear(in_features=120, out_features=84, bias=True)\n",
       "    (1): Tanh()\n",
       "    (2): Linear(in_features=84, out_features=10, bias=True)\n",
       "  )\n",
       ")"
      ]
     },
     "execution_count": 7,
     "metadata": {},
     "output_type": "execute_result"
    }
   ],
   "source": [
    "model = LeNet_5()\n",
    "summary(model,(1,28,28),batch_size=32)\n",
    "model.to(mps_device)"
   ]
  },
  {
   "cell_type": "code",
   "execution_count": 8,
   "metadata": {},
   "outputs": [],
   "source": [
    "learning_rate = 1e-3\n",
    "batch_size = 32\n",
    "epochs = 20"
   ]
  },
  {
   "cell_type": "code",
   "execution_count": 9,
   "metadata": {},
   "outputs": [],
   "source": [
    "loss_fn = nn.CrossEntropyLoss()"
   ]
  },
  {
   "cell_type": "code",
   "execution_count": 10,
   "metadata": {},
   "outputs": [],
   "source": [
    "optimizer = torch.optim.SGD(model.parameters(), lr=learning_rate)"
   ]
  },
  {
   "cell_type": "code",
   "execution_count": 11,
   "metadata": {},
   "outputs": [
    {
     "name": "stdout",
     "output_type": "stream",
     "text": [
      "epoch 1\n",
      "train loss: 2.210006 train acc: 50.90\n",
      "test  loss: 2.208565, test acc: 38.41\n",
      "----------\n",
      "epoch 2\n",
      "train loss: 1.621632 train acc: 64.02\n",
      "test  loss: 1.631875, test acc: 52.47\n",
      "----------\n",
      "epoch 3\n",
      "train loss: 1.231665 train acc: 58.36\n",
      "test  loss: 1.252791, test acc: 57.82\n",
      "----------\n",
      "epoch 4\n",
      "train loss: 1.068581 train acc: 67.73\n",
      "test  loss: 1.117800, test acc: 60.18\n",
      "----------\n",
      "epoch 5\n",
      "train loss: 0.966514 train acc: 67.83\n",
      "test  loss: 1.028042, test acc: 62.44\n",
      "----------\n",
      "epoch 6\n",
      "train loss: 0.891360 train acc: 67.93\n",
      "test  loss: 0.947644, test acc: 66.24\n",
      "----------\n",
      "epoch 7\n",
      "train loss: 0.839309 train acc: 74.19\n",
      "test  loss: 0.881402, test acc: 68.90\n",
      "----------\n",
      "epoch 8\n",
      "train loss: 0.802655 train acc: 74.19\n",
      "test  loss: 0.831567, test acc: 70.60\n",
      "----------\n",
      "epoch 9\n",
      "train loss: 0.772422 train acc: 80.45\n",
      "test  loss: 0.791930, test acc: 71.77\n",
      "----------\n",
      "epoch 10\n",
      "train loss: 0.746073 train acc: 77.42\n",
      "test  loss: 0.760207, test acc: 72.56\n",
      "----------\n",
      "epoch 11\n",
      "train loss: 0.723530 train acc: 77.42\n",
      "test  loss: 0.734945, test acc: 73.06\n",
      "----------\n",
      "epoch 12\n",
      "train loss: 0.704588 train acc: 77.42\n",
      "test  loss: 0.714527, test acc: 73.39\n",
      "----------\n",
      "epoch 13\n",
      "train loss: 0.688665 train acc: 77.42\n",
      "test  loss: 0.697567, test acc: 73.83\n",
      "----------\n",
      "epoch 14\n",
      "train loss: 0.675085 train acc: 77.42\n",
      "test  loss: 0.683055, test acc: 74.20\n",
      "----------\n",
      "epoch 15\n",
      "train loss: 0.663263 train acc: 83.67\n",
      "test  loss: 0.670296, test acc: 74.51\n",
      "----------\n",
      "epoch 16\n",
      "train loss: 0.652756 train acc: 83.67\n",
      "test  loss: 0.658827, test acc: 74.75\n",
      "----------\n",
      "epoch 17\n",
      "train loss: 0.643257 train acc: 80.54\n",
      "test  loss: 0.648342, test acc: 75.06\n",
      "----------\n",
      "epoch 18\n",
      "train loss: 0.634570 train acc: 80.64\n",
      "test  loss: 0.638640, test acc: 75.51\n",
      "----------\n",
      "epoch 19\n",
      "train loss: 0.626573 train acc: 80.64\n",
      "test  loss: 0.629585, test acc: 75.98\n",
      "----------\n",
      "epoch 20\n",
      "train loss: 0.619193 train acc: 80.64\n",
      "test  loss: 0.621084, test acc: 76.25\n",
      "----------\n"
     ]
    }
   ],
   "source": [
    "train_acc, train_loss = [],[]\n",
    "test_acc, test_loss = [],[]\n",
    "for t in range(epochs):\n",
    "    tr_acc, tr_loss = train_loop(False,'GPU',train_dataloader,model,loss_fn,optimizer)\n",
    "    te_acc, te_loss = test_loop(False, 'GPU',test_dataloader, model, loss_fn)\n",
    "    train_acc.append(tr_acc)\n",
    "    train_loss.append(tr_loss[18])\n",
    "    test_acc.append(te_acc)\n",
    "    test_loss.append(te_loss)\n",
    "    print(f'epoch {t+1}')\n",
    "    print('train loss: %.6f train acc: %.2f\\ntest  loss: %.6f, test acc: %.2f' %(tr_loss[18],100*tr_acc, te_loss, 100*te_acc))\n",
    "    print('-'*10)"
   ]
  },
  {
   "cell_type": "markdown",
   "metadata": {},
   "source": [
    "## Result of MNIST Dataset"
   ]
  },
  {
   "cell_type": "code",
   "execution_count": 10,
   "metadata": {},
   "outputs": [
    {
     "data": {
      "image/png": "[encoded data removed]",
      "text/plain": [
       "<Figure size 432x288 with 1 Axes>"
      ]
     },
     "metadata": {
      "needs_background": "light"
     },
     "output_type": "display_data"
    }
   ],
   "source": [
    "plt.title('Loss')\n",
    "plt.plot(test_loss,'-r',label='test loss')\n",
    "plt.plot(train_loss,'-b',label='train loss')\n",
    "plt.legend()\n",
    "plt.show()"
   ]
  },
  {
   "cell_type": "code",
   "execution_count": 11,
   "metadata": {},
   "outputs": [
    {
     "data": {
      "image/png": "[encoded data removed]",
      "text/plain": [
       "<Figure size 432x288 with 1 Axes>"
      ]
     },
     "metadata": {
      "needs_background": "light"
     },
     "output_type": "display_data"
    }
   ],
   "source": [
    "plt.title('Accuracy')\n",
    "plt.plot(test_acc,'-r',label = 'test acc')\n",
    "plt.plot(train_acc,'-b',label = 'train acc')\n",
    "plt.legend()\n",
    "plt.show()"
   ]
  },
  {
   "cell_type": "markdown",
   "metadata": {},
   "source": [
    "## Result of Fashion MNIST Dataset"
   ]
  },
  {
   "cell_type": "code",
   "execution_count": 12,
   "metadata": {},
   "outputs": [
    {
     "data": {
      "image/png": "[encoded data removed]",
      "text/plain": [
       "<Figure size 432x288 with 1 Axes>"
      ]
     },
     "metadata": {
      "needs_background": "light"
     },
     "output_type": "display_data"
    }
   ],
   "source": [
    "plt.title('Loss')\n",
    "plt.plot(test_loss,'-r',label='test loss')\n",
    "plt.plot(train_loss,'-b',label='train loss')\n",
    "plt.legend()\n",
    "plt.show()"
   ]
  },
  {
   "cell_type": "code",
   "execution_count": 13,
   "metadata": {},
   "outputs": [
    {
     "data": {
      "image/png": "[encoded data removed]",
      "text/plain": [
       "<Figure size 432x288 with 1 Axes>"
      ]
     },
     "metadata": {
      "needs_background": "light"
     },
     "output_type": "display_data"
    }
   ],
   "source": [
    "plt.title('Accuracy')\n",
    "plt.plot(test_acc,'-r',label = 'test acc')\n",
    "plt.plot(train_acc,'-b',label = 'train acc')\n",
    "plt.legend()\n",
    "plt.yticks(np.arange(0.1,1,0.2))\n",
    "plt.show()"
   ]
  }
 ],
 "metadata": {
  "kernelspec": {
   "display_name": "Python 3.10.0 64-bit",
   "language": "python",
   "name": "python3"
  },
  "language_info": {
   "codemirror_mode": {
    "name": "ipython",
    "version": 3
   },
   "file_extension": ".py",
   "mimetype": "text/x-python",
   "name": "python",
   "nbconvert_exporter": "python",
   "pygments_lexer": "ipython3",
   "version": "3.10.0"
  },
  "orig_nbformat": 4,
  "vscode": {
   "interpreter": {
    "hash": "aee8b7b246df8f9039afb4144a1f6fd8d2ca17a180786b69acc140d282b71a49"
   }
  }
 },
 "nbformat": 4,
 "nbformat_minor": 2
}
